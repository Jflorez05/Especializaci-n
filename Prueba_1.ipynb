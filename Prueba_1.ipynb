{
  "cells": [
    {
      "cell_type": "markdown",
      "metadata": {
        "id": "view-in-github",
        "colab_type": "text"
      },
      "source": [
        "<a href=\"https://colab.research.google.com/github/Causil/especializacion/blob/main/Prueba_1.ipynb\" target=\"_parent\"><img src=\"https://colab.research.google.com/assets/colab-badge.svg\" alt=\"Open In Colab\"/></a>"
      ]
    },
    {
      "cell_type": "markdown",
      "metadata": {
        "id": "7vGMRorix7fJ"
      },
      "source": [
        "# **Prueba \\#1 **\n",
        "\n",
        "En la siguiente pureba se evalua de manera EXCLUSIVA lo que se solicita, cualquier otra respuesta adicional a ella será valorada, más no evaluada. Entregue la prueba en un repositorio de github antes de el lunes 12 de febrero a las 06:59:59.\n",
        "\n",
        "Equipo 9:\n",
        "\n",
        "Integrantes:\n",
        "1. Javier Andrés Causil Martínez.\n",
        "2. Sebastian Saldarriaga Arias\n",
        "3. Jesus Alberto Florez Lizarazo"
      ]
    },
    {
      "cell_type": "code",
      "source": [],
      "metadata": {
        "id": "0oshykgVqVGg"
      },
      "execution_count": null,
      "outputs": []
    },
    {
      "cell_type": "markdown",
      "metadata": {
        "id": "2JiTz8I9yhXB"
      },
      "source": [
        "## **Ejercicio 1** (50 pts)\n",
        "\n",
        "Escriba una clase `Pedido` que pueda ser usada para gestionar la información de los pedidos realizados a una pastelería (o carnicería o tienda de ropa o empresa que ud desee). Evite usar módulos como numpy, pandas o cualquier otro.\n",
        "\n",
        "### **Rubrica**:\n",
        "\n",
        "1. Generación de la clase que funcione correctamente con al menos 2 métodos y 2 atributos. **30 pts**.\n",
        "2. Comentarios y  documentación que sirva para quien deba usar la clase. **5 pts**.\n",
        "3. Pertinencia de la clase en el ámbito, ¿Por qué será útil esta herramienta y cómo ayudará a mejorar el negocio? esta será entregada en una celda de texto. **10 pts**.\n",
        "4. ¿Cree que se pueda construir una clase hija que ayude al proceso? Si sí constrúyala, sino, argumente por qué en una célda de código. **5 pts**."
      ]
    },
    {
      "cell_type": "markdown",
      "source": [
        "### Solución"
      ],
      "metadata": {
        "id": "m7Uu1wcLqXAE"
      }
    },
    {
      "cell_type": "markdown",
      "source": [
        "#### 1. Generación de la clase que funcione correctamente con al menos 2 métodos y 2 atributos. 30 pts.\n",
        "\n",
        "Contexto: La clase pedido se creo para situaciones donde se esté vendiendo cómida"
      ],
      "metadata": {
        "id": "T1uRZIzTqjPk"
      }
    },
    {
      "cell_type": "code",
      "execution_count": null,
      "metadata": {
        "id": "AgwS8cBnx5Zc",
        "colab": {
          "base_uri": "https://localhost:8080/",
          "height": 35
        },
        "outputId": "6e8de7f7-5673-4b8b-85c6-88520bbeeb2d"
      },
      "outputs": [
        {
          "output_type": "execute_result",
          "data": {
            "text/plain": [
              "'Se ha agregado el producto: Jugo'"
            ],
            "application/vnd.google.colaboratory.intrinsic+json": {
              "type": "string"
            }
          },
          "metadata": {},
          "execution_count": 80
        }
      ],
      "source": [
        "#1\n",
        "\n",
        "class Pedido():\n",
        "    \"\"\"\n",
        "    Represents an order.\n",
        "\n",
        "    Attributes:\n",
        "    - elements_order (list): A list containing elements of the order, where each\n",
        "      element is a list with two values: [[product_name (str), product_cost (float)]].\n",
        "    - date_order (str): The date when the order was placed.\n",
        "\n",
        "    Methods:\n",
        "    - __init__(self, elements_order: list, date_order: str): Initializes an instance of the Pedido class with the given elements_order and date_order.\n",
        "    - cost(self) -> float: Calculates and returns the total cost of the order.\n",
        "    - add_product(self, new_product: list) -> str: Adds a new product to the order and returns a confirmation message.\n",
        "    \"\"\"\n",
        "\n",
        "    def __init__(self, elements_order: list, date_order: str):\n",
        "        \"\"\"\n",
        "        Initializes an instance of the Pedido class.\n",
        "\n",
        "        Parameters:\n",
        "        - elements_order (list): A list containing elements of the order, where each element is a list with two values:\n",
        "                                [product_name (str), product_cost (float)].\n",
        "        - date_order (str): The date when the order was placed.\n",
        "        \"\"\"\n",
        "        self.elements_order = elements_order\n",
        "        self.date_order = date_order\n",
        "\n",
        "    def cost(self) -> float:\n",
        "        \"\"\"\n",
        "        Calculates the total cost of the order.\n",
        "\n",
        "        Returns:\n",
        "        - float: The total cost of the order.\n",
        "        \"\"\"\n",
        "        cost_ = sum([element[1] for element in self.elements_order])\n",
        "        return cost_\n",
        "\n",
        "    def add_product(self, new_product: list) -> str:\n",
        "        \"\"\"\n",
        "        Adds a new product to the order.\n",
        "\n",
        "        Parameters:\n",
        "        - new_product (list): A list containing information about the new product, with two values:\n",
        "                             [product_name (str), product_cost (float)].\n",
        "\n",
        "        Returns:\n",
        "        - str: A confirmation message indicating that the product has been added to the order.\n",
        "        \"\"\"\n",
        "        self.elements_order.append(new_product)\n",
        "        return f\"Se ha agregado el producto: {new_product[0]}\"\n",
        "\n",
        "\n",
        "#Tests\n",
        "#variables, muy importante que esta celda se ejecuta ya que estás variables se utilizan en la clase hija promoción del punto 4\n",
        "elements_order = [ [\"Salchipapa\", 25000], [\"Carne asada\", 50000] ]\n",
        "date_order = \"10-02-2024\"\n",
        "\n",
        "#Instanciando\n",
        "Pedido1 = Pedido(elements_order, \"10-02-2024\")\n",
        "\n",
        "#Probando el método cost\n",
        "Pedido1.cost()\n",
        "\n",
        "#Probando el método add_product\n",
        "Pedido1.add_product([\"Jugo\", 9000])\n",
        "#Pedido1.cost()\n"
      ]
    },
    {
      "cell_type": "markdown",
      "source": [
        "#### 3. Pertinencia de la clase en el ámbito, ¿Por qué será útil esta herramienta y cómo ayudará a mejorar el negocio? esta será entregada en una celda de texto. 10 pts.\n",
        "\n",
        "Está clase nos permite optimizar la toma de pedidos en un negocio, nos ayuda agregar nuevos productos de forma dínamica.\n",
        "\n",
        "Hay que tenener presente que se tiene las herramientas básicas para que está clase pueda ser utilizada en el negocio y sus parametros se ingresen de la manera correcta."
      ],
      "metadata": {
        "id": "gfxaoAe8Q-GJ"
      }
    },
    {
      "cell_type": "markdown",
      "source": [
        "#### 4. ¿Cree que se pueda construir una clase hija que ayude al proceso? Si sí constrúyala, sino, argumente por qué en una célda de código.\n"
      ],
      "metadata": {
        "id": "XyS-h5DrSUgi"
      }
    },
    {
      "cell_type": "code",
      "source": [
        "class Promocion(Pedido):\n",
        "    \"\"\"\n",
        "    Subclass of Pedido representing a promotional discount applied to an order.\n",
        "\n",
        "    Attributes:\n",
        "    - elements_order (list): A list containing elements of the order, where each element is a list with two values:\n",
        "                             [product_name (str), product_cost (float)].\n",
        "    - date_order (str): The date when the order was placed.\n",
        "    - porcentage (float): The percentage of discount applied by the promotion.\n",
        "\n",
        "    Methods:\n",
        "    - __init__(self, elements_order: list, date_order: str, porcentage: float): Initializes a Promocion instance with the given elements_order, date_order, and discount percentage.\n",
        "    - apply_discount(self): Calculates and returns the discounted cost of the order after applying the promotion.\n",
        "    \"\"\"\n",
        "\n",
        "    def __init__(self, elements_order: list, date_order: str, porcentage: float):\n",
        "        \"\"\"\n",
        "        Initializes an instance of the Promocion class.\n",
        "\n",
        "        Parameters:\n",
        "        - elements_order (list): A list containing elements of the order, where each element is a list with two values:\n",
        "                                [product_name (str), product_cost (float)].\n",
        "        - date_order (str): The date when the order was placed.\n",
        "        - porcentage (float): The percentage of discount applied by the promotion.\n",
        "        \"\"\"\n",
        "        # Calls the constructor of the superclass (Pedido) using super()\n",
        "        super().__init__(elements_order, date_order)\n",
        "        self.porcentage = porcentage\n",
        "\n",
        "    def apply_discount(self):\n",
        "        \"\"\"\n",
        "        Calculates the discounted cost of the order after applying the promotion.\n",
        "\n",
        "        Returns:\n",
        "        - float: The discounted cost of the order.\n",
        "        \"\"\"\n",
        "        # Uses super().cost() to get the cost of the order and applies the discount\n",
        "        discounted_cost = super().cost() - super().cost() * (self.porcentage / 100)\n",
        "        return discounted_cost\n",
        "\n",
        "#test\n",
        "#Tenga presente que se utiliza una variable que se declara en la celda de la clase padre Pedido\n",
        "promocion1 = Promocion(elements_order, date_order, 53)\n",
        "\n",
        "promocion1.applay_discount()"
      ],
      "metadata": {
        "colab": {
          "base_uri": "https://localhost:8080/"
        },
        "id": "EB41VOQ5S2Hq",
        "outputId": "0ad12526-0dbb-4d90-ca69-29193921b7c9"
      },
      "execution_count": null,
      "outputs": [
        {
          "output_type": "execute_result",
          "data": {
            "text/plain": [
              "39480.0"
            ]
          },
          "metadata": {},
          "execution_count": 34
        }
      ]
    },
    {
      "cell_type": "markdown",
      "metadata": {
        "id": "pnfosm2l12c5"
      },
      "source": [
        "## **Ejercicio 2** (50 pts)\n",
        "\n",
        "Realice los siguientes ejercicios con numpy\n",
        "\n",
        "1. Resolver el siguiente sistema de ecuaciones. **16 pts**\n",
        "\n",
        "$$\n",
        "2x + 3y - z + 4w + 5v = 15\n",
        "$$\n",
        "\n",
        "$$\n",
        "x - 2y + 4z - 3w + v = 6\n",
        "$$\n",
        "\n",
        "$$\n",
        "3x + 2y - 3z + 5w - 2v = 11\n",
        "$$\n",
        "\n",
        "$$\n",
        "4x + y - 2z + 3w + 2v = 8\n",
        "$$\n",
        "\n",
        "$$\n",
        "x + y + z + w + v = 7\n",
        "$$\n",
        "\n",
        "2. Calcule el valor del número de Euler o constante de Napier $e = 2,71828$ como:\n",
        "\n",
        "$$e = \\sum_{n} ^{\\infty} \\frac{1}{n!} = 1 + \\sum_{n=1}^{\\infty} \\frac{1}{n!}$$\n",
        "\n",
        "  ¿Qué precisión en términos de el número de términos necesita para dar cuenta de los primeros 5 números de la coma decimal? **18 pts**\n",
        "\n",
        "3. Ecuentre los auto valores de la matriz.  **16 pts**\n",
        "\n",
        "$$\n",
        "\\begin{pmatrix}\n",
        "2 & 1 & 1 \\\\\n",
        "4 & 3 & 2 \\\\\n",
        "1 & 1 & 2 \\\\\n",
        "\\end{pmatrix}\n",
        "$$\n",
        "\n"
      ]
    },
    {
      "cell_type": "markdown",
      "source": [
        "### Solución"
      ],
      "metadata": {
        "id": "jEKH_FhfqIH2"
      }
    },
    {
      "cell_type": "markdown",
      "source": [
        "####  1. Resolviendo el sistema de ecuaciones"
      ],
      "metadata": {
        "id": "uemvH3_HuMnJ"
      }
    },
    {
      "cell_type": "code",
      "execution_count": null,
      "metadata": {
        "id": "8gu89-aP5ibM",
        "colab": {
          "base_uri": "https://localhost:8080/"
        },
        "outputId": "3bef4cf3-f3f6-4cfd-be08-e255529a855f"
      },
      "outputs": [
        {
          "output_type": "stream",
          "name": "stdout",
          "text": [
            "[15.  6. 11.  8.  7.]\n"
          ]
        }
      ],
      "source": [
        "import numpy as np\n",
        "\n",
        "A = np.array([\n",
        "    [2, 3, -1, 4, 5],\n",
        "    [1, -2, 4, -3, 1],\n",
        "    [3, 2, -3, 5, -2],\n",
        "    [4, 1, -2, 3, 2],\n",
        "    [1, 1, 1, 1, 1]\n",
        "])\n",
        "B = np.array([15, 6, 11, 8, 7])\n",
        "X = np.linalg.solve(A, B)\n",
        "\n",
        "# Verificación\n",
        "print(np.sum(A*X, axis=1))"
      ]
    },
    {
      "cell_type": "markdown",
      "source": [
        "#### 2. Apriximando el valor $e$\n",
        "\n",
        "Sacando el primer término tenemos que:\n",
        "\n",
        "$$e =\\sum_{n} ^{\\infty} \\frac{1}{n!} = 1 + \\sum_{n=1} ^{\\infty} \\frac{1}{n!}\\quad, $$\n",
        "\n",
        "para un $n$ lo suficientemente grande, nos acercamos a $e$.\n",
        "\n",
        "$$ 1 + \\sum_{i=1}^{n} \\frac{1}{i!} \\underset{n\\to\\infty}{→} e\\quad,  $$\n",
        "\n",
        "así nuestra rutina a desarrollar es de la siguiente suma:\n",
        "\n",
        "$$ 1 + \\sum_{i=1}^{n} \\frac{1}{i!}\\quad . $$\n",
        "\n",
        "A continuación la rutina:"
      ],
      "metadata": {
        "id": "2D_eeKIFjgbn"
      }
    },
    {
      "cell_type": "code",
      "source": [
        "import numpy as np\n",
        "\n",
        "def approach_napier(n):\n",
        "    \"\"\"\n",
        "    Approximates the mathematical constant 'e' using a series expansion.\n",
        "\n",
        "    Parameters:\n",
        "    - n (int): The number of terms in the series expansion.\n",
        "\n",
        "    Returns:\n",
        "    - float: An approximation of the mathematical constant 'e' based on the specified number of terms.\n",
        "    \"\"\"\n",
        "\n",
        "    return 1 + np.sum(1 / np.cumprod(np.arange(1, n)))\n",
        "\n",
        "approach_napier(10)\n",
        "\n",
        "#¿Qué precisión en términos de el número de términos necesita para dar cuenta de los primeros 5 números de la coma decimal?\n",
        "#La precisión que necesita es n=10\n",
        "\n"
      ],
      "metadata": {
        "colab": {
          "base_uri": "https://localhost:8080/"
        },
        "id": "8cxnMNc-fQ12",
        "outputId": "0aca35d0-c7a3-4ef8-ec08-832d2c3f9884"
      },
      "execution_count": null,
      "outputs": [
        {
          "output_type": "execute_result",
          "data": {
            "text/plain": [
              "2.7182815255731922"
            ]
          },
          "metadata": {},
          "execution_count": 77
        }
      ]
    },
    {
      "cell_type": "markdown",
      "source": [
        "####\n",
        "\n",
        "¿Qué precisión en términos de el número de términos necesita para dar cuenta de los primeros 5 números de la coma decimal?\n",
        "\n",
        "La precisión que necesita es n=10"
      ],
      "metadata": {
        "id": "ZeM9xeeMxavE"
      }
    },
    {
      "cell_type": "markdown",
      "source": [
        "#### 3 Encontrando los autovalores\n"
      ],
      "metadata": {
        "id": "iWS3EUkgxpoH"
      }
    },
    {
      "cell_type": "code",
      "source": [
        "matrix = np.array([[2, 1, 1], [4 , 3 , 2] ,[1 , 1 , 2]])\n",
        "\n",
        "eigenvalue, eigenvector = np.linalg.eig(matrix)\n",
        "\n",
        "print(*eigenvalue)"
      ],
      "metadata": {
        "colab": {
          "base_uri": "https://localhost:8080/"
        },
        "id": "_9QjIZqmnrEy",
        "outputId": "93e83c79-99d3-4d90-ae49-a27b5c79d371"
      },
      "execution_count": null,
      "outputs": [
        {
          "output_type": "stream",
          "name": "stdout",
          "text": [
            "5.44948974278318 0.5505102572168231 0.9999999999999993\n"
          ]
        }
      ]
    }
  ],
  "metadata": {
    "colab": {
      "provenance": [],
      "collapsed_sections": [
        "2JiTz8I9yhXB",
        "T1uRZIzTqjPk",
        "XyS-h5DrSUgi",
        "uemvH3_HuMnJ",
        "2D_eeKIFjgbn"
      ],
      "toc_visible": true,
      "include_colab_link": true
    },
    "kernelspec": {
      "display_name": "Python 3 (ipykernel)",
      "language": "python",
      "name": "python3"
    },
    "language_info": {
      "codemirror_mode": {
        "name": "ipython",
        "version": 3
      },
      "file_extension": ".py",
      "mimetype": "text/x-python",
      "name": "python",
      "nbconvert_exporter": "python",
      "pygments_lexer": "ipython3",
      "version": "3.10.10"
    }
  },
  "nbformat": 4,
  "nbformat_minor": 0
}
